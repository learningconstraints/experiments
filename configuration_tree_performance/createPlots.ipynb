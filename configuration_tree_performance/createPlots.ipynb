{
 "cells": [
  {
   "cell_type": "code",
   "execution_count": 2,
   "metadata": {
    "collapsed": true
   },
   "outputs": [],
   "source": [
    "#Params\n",
    "datasetPath = \"../datasets/\"\n",
    "dataPath = \"./data_clustered/\"\n",
    "resultPath = \"./results/plots/\"\n",
    "\n",
    "file <- \"Apache\"\n",
    "baseVersion<-\"0001\"\n",
    "versions<-c(\"0001\",\"0002\",\"0003\",\"0004\")\n",
    "oracle=c(\"0.2\",\"0.5\",\"0.8\")"
   ]
  },
  {
   "cell_type": "code",
   "execution_count": 3,
   "metadata": {
    "collapsed": true
   },
   "outputs": [],
   "source": [
    "library(ggplot2)\n",
    "library(plyr)\n",
    "library(reshape2)\n",
    "library(tools)"
   ]
  },
  {
   "cell_type": "code",
   "execution_count": 4,
   "metadata": {
    "collapsed": true
   },
   "outputs": [],
   "source": [
    "# Plot without a base version\n",
    "processData <- function( data, nconfigurations){\n",
    "  \n",
    "  #Adding a helper colum\n",
    "  data$index <- 1\n",
    "  data$index <- ave(data$index, cumsum(c(F, diff(data$sr) > 0)), FUN=seq_along)\n",
    "  data$freq<-ave( as.numeric(data[[1]]), data[[\"sr\"]] , FUN=length)\n",
    "  data$index= data$index * 100 / data$freq\n",
    "    \n",
    "  #CALCULATE METRICS\n",
    "  data$Accuracy = (data$TP+data$TN)/(data$TP+data$TN+data$FN+data$FP)\n",
    "  data$Specificity = data$TN/(data$TN+data$FP)\n",
    "  data$FPR=data$FP/as.numeric(nconfigurations)\n",
    "  data$FNR=data$FN/as.numeric(nconfigurations)\n",
    "  data$Precision=data$TP/(data$TP + data$FP)\n",
    "  data$Recall = data$TP / (data$TP+ data$FN)\n",
    "  data$NPV=data$TN/(data$TN+data$FN)\n",
    "\n",
    "  data$configpercentage=data$sr*100/nconfigurations\n",
    "  \n",
    "  #This melting is because the data wasn't in the proper csv style\n",
    "  data<-melt(data, id.vars = c(\"FN\",\"FP\",\"TN\",\"TP\",\"sr\",\"t\",\"index\",\"freq\",\"dataset\",\"configpercentage\"))\n",
    "  \n",
    "  return(data)\n",
    "}\n",
    "\n",
    "draw<-function(datasets, c){\n",
    "  for (v in unique(datasets$variable)){\n",
    "    datatmp=datasets[which(datasets$variable == v),]\n",
    "      #print(datatmp)\n",
    "    \n",
    "    #Generate the plot\n",
    "    plot<-ggplot(datatmp,aes(configpercentage,value),group=dataset)+geom_line(aes(linetype=dataset,colour=dataset), na.rm = TRUE)+ theme_bw()+\n",
    "      xlab(paste(\"Percentage of configurations in the training set for a threshold of \",c,sep=\"\")) + \n",
    "      ylab(paste(v,\" Value\",sep=\"\"))+\n",
    "      theme(axis.text = element_text(size = rel(2)),axis.title= element_text(size = rel(2)))\n",
    "    #savetheplot\n",
    "    ggsave(plot,file=paste(paste(resultPath, c,sep=\"\"), \".pdf\", sep = paste(\"-\",v,\"-\",file,sep=\"\")), width=11, height=11)\n",
    "  }\n",
    "}"
   ]
  },
  {
   "cell_type": "code",
   "execution_count": 5,
   "metadata": {
    "collapsed": true
   },
   "outputs": [],
   "source": [
    "dir.create(resultPath, showWarnings=FALSE);\n",
    "for(c in oracle){\n",
    "    \n",
    "    datasets = data.frame()\n",
    "    pattern<-paste(\"^\",file,\"*\",sep=\"\")\n",
    "    temp = list.files(path = paste(dataPath,paste(c,\"/\",sep=\"\"),sep=\"\"),pattern=pattern)\n",
    "    \n",
    "    if(length(versions)>0){\n",
    "        temp = c()\n",
    "        for(n in versions){\n",
    "            temp<-append(temp,paste(file,\"-\",n,\".csv\",sep=\"\"))\n",
    "        }\n",
    "    }\n",
    "    \n",
    "    for (i in 1:length(temp)) {\n",
    "        filename<-paste(dataPath,c,\"/\",temp[i],sep=\"\")\n",
    "        filenameDataset<-paste(datasetPath,strsplit(temp[i],\"-\")[[1]][1],\".csv\",sep=\"\")\n",
    "        tmp= read.csv(filename)\n",
    "        tmp$dataset <- temp[i]\n",
    "        command<-paste(\"wc -l \",filenameDataset,sep=\"\")\n",
    "        pipewc<-pipe(command)\n",
    "        lines<-(scan(pipewc, what=list(0, NULL))[[1]])\n",
    "        close(pipewc)\n",
    "        tmp<-processData(tmp,lines)\n",
    "        datasets=rbind(datasets,tmp)\n",
    "    }\n",
    "    \n",
    "    draw(datasets,c)\n",
    "}"
   ]
  },
  {
   "cell_type": "code",
   "execution_count": 21,
   "metadata": {
    "collapsed": true
   },
   "outputs": [],
   "source": [
    "# Plot with a base version\n",
    "processData <- function(dataBase, data, nconfigurations){\n",
    "  \n",
    "  #Adding a helper colum\n",
    "  data$index <- 1\n",
    "  data$index <- ave(data$index, cumsum(c(F, diff(data$sr) > 0)), FUN=seq_along)\n",
    "  data$freq<-ave( as.numeric(data[[1]]), data[[\"sr\"]] , FUN=length)\n",
    "  data$index= data$index * 100 / data$freq\n",
    "    \n",
    "  #CALCULATE METRICS\n",
    "  data$Accuracy = (data$TP+data$TN)/(data$TP+data$TN+data$FN+data$FP) - (dataBase$TP+dataBase$TN)/(dataBase$TP+dataBase$TN+dataBase$FN+dataBase$FP)\n",
    "  data$Specificity = data$TN/(data$TN+data$FP) - dataBase$TN/(dataBase$TN+dataBase$FP)\n",
    "  data$FPR=data$FP/as.numeric(nconfigurations) - dataBase$FP/as.numeric(nconfigurations)\n",
    "  data$FNR=data$FN/as.numeric(nconfigurations) - dataBase$FN/as.numeric(nconfigurations)\n",
    "  data$Precision=data$TP/(data$TP + data$FP) - dataBase$TP/(dataBase$TP + dataBase$FP)\n",
    "  data$Recall = data$TP / (data$TP+ data$FN)  - dataBase$TP / (dataBase$TP+ dataBase$FN)# Recall of class 1\n",
    "  data$NPV=data$TN/(data$TN+data$FN) - dataBase$TN/(dataBase$TN+dataBase$FN)\n",
    "\n",
    "  data$configpercentage=data$sr*100/nconfigurations\n",
    "  \n",
    "  #This melting is because the data wasn't in the proper csv style\n",
    "  data<-melt(data, id.vars = c(\"FN\",\"FP\",\"TN\",\"TP\",\"sr\",\"t\",\"index\",\"freq\",\"dataset\",\"configpercentage\"))\n",
    "  \n",
    "  return(data)\n",
    "}\n",
    "\n",
    "draw<-function(datasets, c){\n",
    "  for (v in unique(datasets$variable)){\n",
    "    datatmp=datasets[which(datasets$variable == v),]\n",
    "      #print(datatmp)\n",
    "    \n",
    "    #Generate the plot\n",
    "    plot<-ggplot(datatmp,aes(configpercentage,value),group=dataset)+geom_line(aes(linetype=dataset,colour=dataset), na.rm = TRUE)+ theme_bw()+\n",
    "      xlab(paste(\"Percentage of configurations in the training set for a threshold of \",c,sep=\"\")) + \n",
    "      ylab(paste(v,\" Value\",sep=\"\"))+\n",
    "      theme(axis.text = element_text(size = rel(2)),axis.title= element_text(size = rel(2)))\n",
    "    #savetheplot\n",
    "    ggsave(plot,file=paste(paste(resultPath, c,sep=\"\"), \".pdf\", sep = paste(\"-\",v,\"-\",file,sep=\"\")), width=11, height=11)\n",
    "  }\n",
    "}"
   ]
  },
  {
   "cell_type": "code",
   "execution_count": 22,
   "metadata": {
    "collapsed": true
   },
   "outputs": [],
   "source": [
    "dir.create(resultPath, showWarnings=FALSE);\n",
    "for(c in oracle){\n",
    "    \n",
    "    data=read.table(paste(dataPath, c, \"/\", file, \"-\", baseVersion, \".csv\", sep=\"\"), header=T,sep=\",\");\n",
    "    \n",
    "    datasets = data.frame()\n",
    "    pattern<-paste(\"^\",file,\"*\",sep=\"\")\n",
    "    temp = list.files(path = paste(dataPath,paste(c,\"/\",sep=\"\"),sep=\"\"),pattern=pattern)\n",
    "    \n",
    "    if(length(versions)>0){\n",
    "        temp = c()\n",
    "        for(n in versions){\n",
    "            temp<-append(temp,paste(file,\"-\",n,\".csv\",sep=\"\"))\n",
    "        }\n",
    "    }\n",
    "    \n",
    "    for (i in 1:length(temp)) {\n",
    "        filename<-paste(dataPath,c,\"/\",temp[i],sep=\"\")\n",
    "        filenameDataset<-paste(datasetPath,strsplit(temp[i],\"-\")[[1]][1],\".csv\",sep=\"\")\n",
    "        tmp= read.csv(filename)\n",
    "        tmp$dataset <- temp[i]\n",
    "        command<-paste(\"wc -l \",filenameDataset,sep=\"\")\n",
    "        pipewc<-pipe(command)\n",
    "        lines<-(scan(pipewc, what=list(0, NULL))[[1]])\n",
    "        close(pipewc)\n",
    "        tmp<-processData(data,tmp,lines)\n",
    "        datasets=rbind(datasets,tmp)\n",
    "    }\n",
    "    \n",
    "    draw(datasets,c)\n",
    "}"
   ]
  },
  {
   "cell_type": "code",
   "execution_count": null,
   "metadata": {
    "collapsed": true
   },
   "outputs": [],
   "source": []
  }
 ],
 "metadata": {
  "kernelspec": {
   "display_name": "R",
   "language": "R",
   "name": "ir"
  },
  "language_info": {
   "codemirror_mode": "r",
   "file_extension": ".r",
   "mimetype": "text/x-r-source",
   "name": "R",
   "pygments_lexer": "r",
   "version": "3.3.3"
  }
 },
 "nbformat": 4,
 "nbformat_minor": 2
}
