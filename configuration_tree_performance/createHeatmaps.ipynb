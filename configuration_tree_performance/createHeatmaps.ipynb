{
 "cells": [
  {
   "cell_type": "code",
   "execution_count": null,
   "metadata": {
    "collapsed": true
   },
   "outputs": [],
   "source": [
    "#Params\n",
    "datasetPath = \"../datasets/\"\n",
    "dataPath = \"./data/\"\n",
    "resultPath = \"./results/heatmaps/\"\n",
    "filenames = [\"SQLite\"]\n",
    "perf=\"perf\"\n",
    "\n",
    "\n",
    "# Metrics names\n",
    "metrics = [\"accuracy\",\"specificity\",\"precision\",\"recall\",\"npv\",\"negNPV\",\"negAccuracy\"]"
   ]
  },
  {
   "cell_type": "code",
   "execution_count": null,
   "metadata": {
    "collapsed": true
   },
   "outputs": [],
   "source": [
    "from os import listdir\n",
    "from os.path import isfile, join\n",
    "import pandas as pd\n",
    "import numpy as np\n",
    "\n",
    "# Select the files you will use\n",
    "def getFiles(baseFilename):\n",
    "    returnFiles = []\n",
    "    \n",
    "    files = [f for f in listdir(dataPath) if isfile(join(dataPath, f)) and f.startswith(baseFilename)]\n",
    "    files.sort()\n",
    "    for filename in files:\n",
    "        # Here only appear files starting with the value in baseFilename\n",
    "        # You can add several filters as you want, example here by excluding file with a certain version number : \n",
    "        '''\n",
    "        # Split the last one\n",
    "        splitted = filename.split(\"-\")\n",
    "        # Get the last version\n",
    "        num = splitted[len(splitted)-1].split(\".\")[0]\n",
    "        \n",
    "        if num == \"0001\":\n",
    "            continue\n",
    "        '''\n",
    "        #Or simply excluding file by its name\n",
    "        '''\n",
    "        if filename == \"SQLite-0002.csv\":\n",
    "            continue\n",
    "        '''\n",
    "        \n",
    "        returnFiles.append(dataPath+filename)\n",
    "        \n",
    "    return returnFiles\n",
    "\n",
    "# Used to get the min and max values through every concerned files\n",
    "# Need it to have same scale for each heatmap, it's easier to compare then\n",
    "def getMinMax(files):\n",
    "    minArray={}\n",
    "    maxArray={}\n",
    "    for m in metrics:\n",
    "        minArray[m] = 1\n",
    "        maxArray[m] = 0\n",
    "\n",
    "\n",
    "    for filename in files:\n",
    "        df = pd.read_csv(filename)\n",
    "\n",
    "        df['accuracy']= (df['TP']+df['TN']) / (df['TP']+df['TN']+df['FN']+df['FP'])\n",
    "        df['specificity']=df['TN']/(df['TN']+df['FP'])\n",
    "        df['precision']=df['TP']/(df['TP'] + df['FP'])\n",
    "        df['recall']= df['TP'] / (df['TP']+ df['FN'])\n",
    "        df['npv']=df['TN']/(df['TN']+df['FN'])\n",
    "\n",
    "        df['index']=df.groupby('sr').cumcount()+1\n",
    "        df['frequency']=max(df['index'])\n",
    "        df['index']= df['index'] * 100 / df['frequency']\n",
    "\n",
    "        df['negNPV']=df['npv']-(df['index']/100)\n",
    "        df['negAccuracy']=df['accuracy']-(df['index']/100)\n",
    "\n",
    "        for m in metrics:\n",
    "            if max(df[m])>maxArray[m] and not np.isnan(max(df[m])):\n",
    "                maxArray[m] = max(df[m])\n",
    "            elif np.isnan(max(df[m])):\n",
    "                if np.nanmax(df[m].values)>maxArray[m]:\n",
    "                    maxArray[m] = np.nanmax(df[m].values)\n",
    "            if min(df[m])<minArray[m] and not np.isnan(min(df[m])):\n",
    "                minArray[m] = min(df[m])\n",
    "            elif np.isnan(min(df[m])):\n",
    "                if np.nanmin(df[m].values)<minArray[m]:\n",
    "                    minArray[m] = np.nanmin(df[m].values)\n",
    "\n",
    "\n",
    "    return pd.DataFrame([minArray,maxArray])"
   ]
  },
  {
   "cell_type": "code",
   "execution_count": null,
   "metadata": {},
   "outputs": [],
   "source": [
    "\n",
    "for baseFilename in filenames:\n",
    "    \n",
    "    if not os.path.exists(resultPath+baseFilename):\n",
    "        try:\n",
    "            os.makedirs(resultPath+baseFilename)\n",
    "        except OSError as exc: # Guard against race condition\n",
    "            if exc.errno != errno.EEXIST:\n",
    "                raise\n",
    "            \n",
    "    files = getFiles(baseFilename)\n",
    "    # Put min and max values in a csv file to be used by the R script for heatmaps\n",
    "    getMinMax(files).to_csv(dataPath+\"minmax-\"+baseFilename+\".csv\", index=False)\n",
    "    \n",
    "    #Create heatmaps for each file for each metric\n",
    "    for filename in files:\n",
    "        !Rscript ./helpers/2.calculateMetricsV2.R {filename} {resultPath}{baseFilename}\"/\" {dataPath}\"minmax-\"{baseFilename}\".csv\""
   ]
  },
  {
   "cell_type": "code",
   "execution_count": null,
   "metadata": {
    "collapsed": true
   },
   "outputs": [],
   "source": []
  }
 ],
 "metadata": {
  "kernelspec": {
   "display_name": "Python 3",
   "language": "python",
   "name": "python3"
  },
  "language_info": {
   "codemirror_mode": {
    "name": "ipython",
    "version": 3
   },
   "file_extension": ".py",
   "mimetype": "text/x-python",
   "name": "python",
   "nbconvert_exporter": "python",
   "pygments_lexer": "ipython3",
   "version": "3.5.3"
  }
 },
 "nbformat": 4,
 "nbformat_minor": 2
}
