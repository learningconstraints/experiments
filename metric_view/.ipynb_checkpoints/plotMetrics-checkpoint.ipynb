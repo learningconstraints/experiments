{
 "cells": [
  {
   "cell_type": "code",
   "execution_count": 1,
   "metadata": {
    "collapsed": true
   },
   "outputs": [],
   "source": [
    "#Params\n",
    "datasetPath = \"../datasets/\"\n",
    "dataPath = \"./data_clustered/\"\n",
    "resultPath = \"./results/\""
   ]
  },
  {
   "cell_type": "code",
   "execution_count": 2,
   "metadata": {
    "collapsed": true
   },
   "outputs": [],
   "source": [
    "library(ggplot2)\n",
    "library(plyr)\n",
    "library(reshape2)\n",
    "library(tools)"
   ]
  },
  {
   "cell_type": "code",
   "execution_count": 3,
   "metadata": {
    "collapsed": true
   },
   "outputs": [],
   "source": [
    "processData <- function(data,nconfigurations){\n",
    "  \n",
    "  #Adding a helper colum\n",
    "  data$index <- 1\n",
    "  data$index <- ave(data$index, cumsum(c(F, diff(data$sr) > 0)), FUN=seq_along)\n",
    "  data$freq<-ave( as.numeric(data[[1]]), data[[\"sr\"]] , FUN=length)\n",
    "  data$index= data$index * 100 / data$freq\n",
    "  \n",
    "  #CALCULATE METRICS\n",
    "  data$Accuracy = (data$TP+data$TN)/(data$TP+data$TN+data$FN+data$FP)\n",
    "  data$Specificity=data$TN/(data$TN+data$FP)\n",
    "  data$FPR=data$FP/as.numeric(nconfigurations)\n",
    "  data$FNR=data$FN/as.numeric(nconfigurations)\n",
    "  data$Precision=data$TP/(data$TP + data$FP)\n",
    "  data$Recall = data$TP / (data$TP+ data$FN) # Recall of class 1\n",
    "  data$NPV=data$TN/(data$TN+data$FN)\n",
    "\n",
    "  data$configpercentage=data$sr*100/nconfigurations\n",
    "  \n",
    "  #This melting is because the data wasn't in the proper csv style\n",
    "  data<-melt(data, id.vars = c(\"FN\",\"FP\",\"TN\",\"TP\",\"sr\",\"t\",\"index\",\"freq\",\"dataset\",\"configpercentage\"))\n",
    "  \n",
    "  return(data)\n",
    "}\n",
    "draw<-function(datasets, c){\n",
    "  for (v in unique(datasets$variable)){\n",
    "    datatmp=datasets[which(datasets$variable == v),]\n",
    "      #print(datatmp)\n",
    "    \n",
    "    #Generate the plot\n",
    "    plot<-ggplot(datatmp,aes(configpercentage,value),group=dataset)+geom_line(aes(linetype=dataset))+ theme_bw()+\n",
    "      xlab(paste(\"Percentage of configurations in the training set for a threshold of \",c,sep=\"\")) + \n",
    "      ylab(paste(v,\" Value\",sep=\"\"))+\n",
    "      theme(axis.text = element_text(size = rel(2)),axis.title= element_text(size = rel(2)))\n",
    "    #savetheplot\n",
    "    ggsave(plot,file=paste(paste(resultPath, c,sep=\"\"), \".pdf\", sep = paste(\"-\",v,sep=\"\")), width=11, height=11)\n",
    "  }\n",
    "}"
   ]
  },
  {
   "cell_type": "code",
   "execution_count": 4,
   "metadata": {},
   "outputs": [
    {
     "name": "stderr",
     "output_type": "stream",
     "text": [
      "Warning message:\n",
      "“Removed 1 rows containing missing values (geom_path).”"
     ]
    }
   ],
   "source": [
    "for(c in c(\"0.2\",\"0.5\",\"0.8\")){\n",
    "#for(c in c(\"0.2\")){\n",
    "    datasets = data.frame()\n",
    "    \n",
    "    temp = list.files(path = paste(dataPath,paste(c,\"/\",sep=\"\"),sep=\"\"),pattern=\"*.csv\")\n",
    "    #print(temp)\n",
    "    \n",
    "    for (i in 1:length(temp)) {\n",
    "        filename<-paste(dataPath,c,\"/\",temp[i],sep=\"\")\n",
    "        filenameDataset<-paste(datasetPath,strsplit(temp[i],\"-\")[[1]][2],sep=\"\")\n",
    "        tmp= read.csv(filename)\n",
    "        tmp$dataset <- temp[i]\n",
    "        command<-paste(\"wc -l \",filenameDataset,sep=\"\")\n",
    "        pipewc<-pipe(command)\n",
    "        lines<-(scan(pipewc, what=list(0, NULL))[[1]])\n",
    "        close(pipewc)\n",
    "        tmp<-processData(tmp,lines)\n",
    "        datasets=rbind(datasets,tmp)\n",
    "    }\n",
    "    #print(datasets)\n",
    "    draw(datasets,c)\n",
    "}"
   ]
  },
  {
   "cell_type": "code",
   "execution_count": null,
   "metadata": {
    "collapsed": true
   },
   "outputs": [],
   "source": []
  }
 ],
 "metadata": {
  "kernelspec": {
   "display_name": "R",
   "language": "R",
   "name": "ir"
  },
  "language_info": {
   "codemirror_mode": "r",
   "file_extension": ".r",
   "mimetype": "text/x-r-source",
   "name": "R",
   "pygments_lexer": "r",
   "version": "3.3.3"
  }
 },
 "nbformat": 4,
 "nbformat_minor": 2
}
