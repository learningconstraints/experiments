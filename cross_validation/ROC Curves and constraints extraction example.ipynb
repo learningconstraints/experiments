{
 "cells": [
  {
   "cell_type": "code",
   "execution_count": 4,
   "metadata": {},
   "outputs": [
    {
     "name": "stdout",
     "output_type": "stream",
     "text": [
      "2\n"
     ]
    },
    {
     "data": {
      "image/png": "[encoded data removed]",
      "text/plain": [
       "<matplotlib.figure.Figure at 0x7f69f8981278>"
      ]
     },
     "metadata": {},
     "output_type": "display_data"
    }
   ],
   "source": [
    "from sklearn.metrics import roc_curve\n",
    "import pandas as pd\n",
    "from sklearn import tree\n",
    "from sklearn.model_selection import StratifiedShuffleSplit\n",
    "import matplotlib.pyplot as plt\n",
    "import numpy as np\n",
    "from sklearn.model_selection import train_test_split\n",
    "\n",
    "#Define the ROC curve plotting function\n",
    "def plot_roc(fpr,tpr,thresholds):\n",
    "    plt.plot(fpr,tpr, label=\"ROC Curve\")\n",
    "    plt.xlabel(\"FPR\")\n",
    "    plt.ylabel(\"TPR\")\n",
    "    close_zero=np.argmin(np.abs(thresholds))\n",
    "    print(close_zero)\n",
    "    plt.plot(fpr[close_zero], tpr[close_zero], 'o', markersize=10, label=\"threshold zero\", fillstyle=\"none\", c='k', mew=2)\n",
    "    plt.legend(loc=4)\n",
    "    plt.show()\n",
    "    \n",
    "    \n",
    "#Set params\n",
    "classParams = {\n",
    "    \"criterion\":\"entropy\",#gini\n",
    "    \"splitter\":\"best\",\n",
    "    \"max_features\":None,\n",
    "    \"max_depth\":None,\n",
    "    \"min_samples_split\":2,\n",
    "    \"min_samples_leaf\":1,#1\n",
    "    \"min_weight_fraction_leaf\":0.,\n",
    "    \"max_leaf_nodes\":None,\n",
    "    \"class_weight\":None,\n",
    "    \"random_state\":None,\n",
    "    \"min_impurity_split\":1e-7,\n",
    "    \"presort\":False\n",
    "}\n",
    "\n",
    "#Get the dataset\n",
    "df = pd.read_csv(\"../datasets/Apache.csv\").sort_values(['perf'])\n",
    "\n",
    "t = 1400\n",
    "df[\"label\"] = 0\n",
    "df.loc[df[\"perf\"] > t, \"label\"] = 1\n",
    "\n",
    "clean = df.drop([\"perf\"],axis=1,errors=\"ignore\")\n",
    "\n",
    "#Get the train and test sets\n",
    "X_train, X_test, y_train, y_test = train_test_split(clean.drop([\"label\"],axis=1),clean[\"label\"], train_size=0.17)\n",
    "\n",
    "c = tree.DecisionTreeClassifier(**classParams)\n",
    "\n",
    "#Train the tree\n",
    "c.fit(X_train, y_train)\n",
    "\n",
    "#Get prediction\n",
    "pred = c.predict(X_test)\n",
    "fpr, tpr, thresholds = roc_curve(y_test.values,pred)\n",
    "\n",
    "plot_roc(fpr,tpr,thresholds)"
   ]
  },
  {
   "cell_type": "code",
   "execution_count": 5,
   "metadata": {},
   "outputs": [
    {
     "name": "stdout",
     "output_type": "stream",
     "text": [
      "if ( Handle <= 0.5 ) {\n",
      "if ( KeepAlive <= 0.5 ) {\n",
      "if ( ExtendedStatus <= 0.5 ) {\n",
      "if ( AccessLog <= 0.5 ) {\n",
      "return [[ 0.  1.]]\n",
      "} else {\n",
      "return [[ 1.  0.]]\n",
      "}\n",
      "} else {\n",
      "return [[ 5.  0.]]\n",
      "}\n",
      "} else {\n",
      "return [[ 0.  9.]]\n",
      "}\n",
      "} else {\n",
      "return [[ 16.   0.]]\n",
      "}\n"
     ]
    }
   ],
   "source": [
    "#Define the constraints extraction function\n",
    "def get_code(tree, feature_names):\n",
    "        left      = tree.tree_.children_left\n",
    "        right     = tree.tree_.children_right\n",
    "        threshold = tree.tree_.threshold\n",
    "        features  = [feature_names[i] for i in tree.tree_.feature]\n",
    "        value = tree.tree_.value\n",
    "\n",
    "        def recurse(left, right, threshold, features, node):\n",
    "                if (threshold[node] != -2):\n",
    "                        print(\"if ( \" + features[node] + \" <= \" + str(threshold[node]) + \" ) {\")\n",
    "                        if left[node] != -1:\n",
    "                                recurse (left, right, threshold, features,left[node])\n",
    "                        print( \"} else {\")\n",
    "                        if right[node] != -1:\n",
    "                                recurse (left, right, threshold, features,right[node])\n",
    "                        print( \"}\")\n",
    "                else:\n",
    "                        print( \"return \" + str(value[node]))\n",
    "\n",
    "        recurse(left, right, threshold, features, 0)\n",
    "        \n",
    "#Extract the constraints\n",
    "get_code(c,X_train.columns)"
   ]
  },
  {
   "cell_type": "code",
   "execution_count": null,
   "metadata": {
    "collapsed": true
   },
   "outputs": [],
   "source": []
  }
 ],
 "metadata": {
  "kernelspec": {
   "display_name": "Python 3",
   "language": "python",
   "name": "python3"
  },
  "language_info": {
   "codemirror_mode": {
    "name": "ipython",
    "version": 3
   },
   "file_extension": ".py",
   "mimetype": "text/x-python",
   "name": "python",
   "nbconvert_exporter": "python",
   "pygments_lexer": "ipython3",
   "version": "3.5.3"
  }
 },
 "nbformat": 4,
 "nbformat_minor": 2
}
